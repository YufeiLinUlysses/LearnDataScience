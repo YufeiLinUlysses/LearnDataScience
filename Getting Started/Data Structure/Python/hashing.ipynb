{
 "metadata": {
  "language_info": {
   "codemirror_mode": {
    "name": "ipython",
    "version": 3
   },
   "file_extension": ".py",
   "mimetype": "text/x-python",
   "name": "python",
   "nbconvert_exporter": "python",
   "pygments_lexer": "ipython3",
   "version": "3.6.5-final"
  },
  "orig_nbformat": 2,
  "kernelspec": {
   "name": "python3",
   "display_name": "Python 3.6.5 64-bit (conda)",
   "metadata": {
    "interpreter": {
     "hash": "70399c5d6d2baafb9414450c6d62b5370491d930a8d933290d9b6af606f8e169"
    }
   }
  }
 },
 "nbformat": 4,
 "nbformat_minor": 2,
 "cells": [
  {
   "source": [
    "# Hash Table"
   ],
   "cell_type": "markdown",
   "metadata": {}
  },
  {
   "source": [
    "Hash table is a data structure, where each value is in a uniquely named slot. Generally people would use the algorithm where we take the modulos to the length of the array to assign the slot for each value. However, there are possibilities of \"collisions\" to occur, where two values are assigned to the same slot because they have the same reminder. Also, this may also cause a severe waste of spaces. Therefore, we are going to introduce the idea of a function that satisfies the following:\n",
    "\n",
    "1. Compressive: Able to acquire a short fixed-length finger print\n",
    "2. Easy to calculate: easy to acquire the finger print with little computational time\n",
    "3. Unchangeable: no change would be made if there's changes in orginal data \n",
    "4. Unconflicted: hard to find same finger print\n",
    "\n",
    "One of the most famous function that satisfies this idea is MD5\n",
    "\n",
    "Then, we could use this function to help create a hash table that satisfies our general needs, where each value has its own key.\n"
   ],
   "cell_type": "markdown",
   "metadata": {}
  },
  {
   "cell_type": "code",
   "execution_count": 3,
   "metadata": {},
   "outputs": [
    {
     "output_type": "execute_result",
     "data": {
      "text/plain": [
       "'fc3ff98e8c6a0d3087d515c0473f8677'"
      ]
     },
     "metadata": {},
     "execution_count": 3
    }
   ],
   "source": [
    "# MD5 in python\n",
    "import hashlib\n",
    "hashlib.md5(b\"hello world!\").hexdigest()"
   ]
  },
  {
   "source": [
    "# Block Chain\n",
    "\n",
    "We are using hashing to help establish the entire block chain. Block chain is a similar data structure to a linked list, where we have head on each node and pointing towards one another. Block chain's purpose is help to decentralize the service. "
   ],
   "cell_type": "markdown",
   "metadata": {}
  }
 ]
}