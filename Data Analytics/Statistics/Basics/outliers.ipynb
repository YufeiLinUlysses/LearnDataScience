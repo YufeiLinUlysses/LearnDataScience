{
 "metadata": {
  "language_info": {
   "codemirror_mode": {
    "name": "ipython",
    "version": 3
   },
   "file_extension": ".py",
   "mimetype": "text/x-python",
   "name": "python",
   "nbconvert_exporter": "python",
   "pygments_lexer": "ipython3",
   "version": "3.6.5-final"
  },
  "orig_nbformat": 2,
  "kernelspec": {
   "name": "python3",
   "display_name": "Python 3",
   "language": "python"
  }
 },
 "nbformat": 4,
 "nbformat_minor": 2,
 "cells": [
  {
   "source": [
    "# Outliers\n",
    "In this chapter, we will discuss how to find and isolate outliers in a given data set. Also, we would discuss whether outliers are important to be isolated. Outliers are defined as the data points that are very statistically different from the rest of the data.  "
   ],
   "cell_type": "markdown",
   "metadata": {}
  },
  {
   "cell_type": "code",
   "execution_count": 2,
   "metadata": {},
   "outputs": [],
   "source": [
    "# Get numpy and all other important modules\n",
    "import seaborn as sns\n",
    "import numpy as np\n",
    "import matplotlib.pyplot as plt\n",
    "import pandas as pd\n",
    "from IPython.core.interactiveshell import InteractiveShell\n",
    "InteractiveShell.ast_node_interactivity = \"all\""
   ]
  },
  {
   "source": [
    "Read in bad-driver data from fivethrityeight. The original data is from the following website: \"https://github.com/fivethirtyeight/data/tree/master/bad-drivers\".\n",
    "\n",
    "It could be obtained through git.\n"
   ],
   "cell_type": "markdown",
   "metadata": {}
  },
  {
   "cell_type": "code",
   "execution_count": 3,
   "metadata": {},
   "outputs": [
    {
     "output_type": "execute_result",
     "data": {
      "text/plain": [
       "     State  Number of drivers involved in fatal collisions per billion miles  \\\n",
       "0  Alabama                                               18.8                  \n",
       "1   Alaska                                               18.1                  \n",
       "2  Arizona                                               18.6                  \n",
       "\n",
       "   Percentage Of Drivers Involved In Fatal Collisions Who Were Speeding  \\\n",
       "0                                                 39                      \n",
       "1                                                 41                      \n",
       "2                                                 35                      \n",
       "\n",
       "   Percentage Of Drivers Involved In Fatal Collisions Who Were Alcohol-Impaired  \\\n",
       "0                                                 30                              \n",
       "1                                                 25                              \n",
       "2                                                 28                              \n",
       "\n",
       "   Percentage Of Drivers Involved In Fatal Collisions Who Were Not Distracted  \\\n",
       "0                                                 96                            \n",
       "1                                                 90                            \n",
       "2                                                 84                            \n",
       "\n",
       "   Percentage Of Drivers Involved In Fatal Collisions Who Had Not Been Involved In Any Previous Accidents  \\\n",
       "0                                                 80                                                        \n",
       "1                                                 94                                                        \n",
       "2                                                 96                                                        \n",
       "\n",
       "   Car Insurance Premiums ($)  \\\n",
       "0                      784.55   \n",
       "1                     1053.48   \n",
       "2                      899.47   \n",
       "\n",
       "   Losses incurred by insurance companies for collisions per insured driver ($)  \n",
       "0                                             145.08                             \n",
       "1                                             133.93                             \n",
       "2                                             110.35                             "
      ],
      "text/html": "<div>\n<style scoped>\n    .dataframe tbody tr th:only-of-type {\n        vertical-align: middle;\n    }\n\n    .dataframe tbody tr th {\n        vertical-align: top;\n    }\n\n    .dataframe thead th {\n        text-align: right;\n    }\n</style>\n<table border=\"1\" class=\"dataframe\">\n  <thead>\n    <tr style=\"text-align: right;\">\n      <th></th>\n      <th>State</th>\n      <th>Number of drivers involved in fatal collisions per billion miles</th>\n      <th>Percentage Of Drivers Involved In Fatal Collisions Who Were Speeding</th>\n      <th>Percentage Of Drivers Involved In Fatal Collisions Who Were Alcohol-Impaired</th>\n      <th>Percentage Of Drivers Involved In Fatal Collisions Who Were Not Distracted</th>\n      <th>Percentage Of Drivers Involved In Fatal Collisions Who Had Not Been Involved In Any Previous Accidents</th>\n      <th>Car Insurance Premiums ($)</th>\n      <th>Losses incurred by insurance companies for collisions per insured driver ($)</th>\n    </tr>\n  </thead>\n  <tbody>\n    <tr>\n      <th>0</th>\n      <td>Alabama</td>\n      <td>18.8</td>\n      <td>39</td>\n      <td>30</td>\n      <td>96</td>\n      <td>80</td>\n      <td>784.55</td>\n      <td>145.08</td>\n    </tr>\n    <tr>\n      <th>1</th>\n      <td>Alaska</td>\n      <td>18.1</td>\n      <td>41</td>\n      <td>25</td>\n      <td>90</td>\n      <td>94</td>\n      <td>1053.48</td>\n      <td>133.93</td>\n    </tr>\n    <tr>\n      <th>2</th>\n      <td>Arizona</td>\n      <td>18.6</td>\n      <td>35</td>\n      <td>28</td>\n      <td>84</td>\n      <td>96</td>\n      <td>899.47</td>\n      <td>110.35</td>\n    </tr>\n  </tbody>\n</table>\n</div>"
     },
     "metadata": {},
     "execution_count": 3
    }
   ],
   "source": [
    "badDrivers = pd.read_csv(\"./DataSource/bad-drivers.csv\")\n",
    "badDrivers.head(3)"
   ]
  },
  {
   "source": [
    "Since the title is too long for operations, we rename them and here are the explanations of each new column names:\n",
    "\n",
    "1. `state` | All states in the U.S. in abbreviation\n",
    "2. `driverNum` | Number of drivers involved in fatal collisions per billion miles\n",
    "3. `speeding` | Percentage Of Drivers Involved In Fatal Collisions Who Were Speeding\n",
    "4. `alcohol` | Percentage Of Drivers Involved In Fatal Collisions Who Were Alcohol-Impaired\n",
    "5. `notDistracted`\t | Percentage Of Drivers Involved In Fatal Collisions Who Were Not Distracted\n",
    "6. `noPrevious` | Percentage Of Drivers Involved In Fatal Collisions Who Had Not Been Involved In Any Previous Accidents\n",
    "7. `insurance` | Car Insurance Premiums ($)\n",
    "8. `losses` | Losses incurred by insurance companies for collisions per insured driver ($)"
   ],
   "cell_type": "markdown",
   "metadata": {}
  },
  {
   "cell_type": "code",
   "execution_count": 4,
   "metadata": {},
   "outputs": [
    {
     "output_type": "execute_result",
     "data": {
      "text/plain": [
       "     state  driverNum  speeding  alcohol  notDistracted  noPrevious  \\\n",
       "0  Alabama       18.8        39       30             96          80   \n",
       "1   Alaska       18.1        41       25             90          94   \n",
       "2  Arizona       18.6        35       28             84          96   \n",
       "\n",
       "   insurance  losses  \n",
       "0     784.55  145.08  \n",
       "1    1053.48  133.93  \n",
       "2     899.47  110.35  "
      ],
      "text/html": "<div>\n<style scoped>\n    .dataframe tbody tr th:only-of-type {\n        vertical-align: middle;\n    }\n\n    .dataframe tbody tr th {\n        vertical-align: top;\n    }\n\n    .dataframe thead th {\n        text-align: right;\n    }\n</style>\n<table border=\"1\" class=\"dataframe\">\n  <thead>\n    <tr style=\"text-align: right;\">\n      <th></th>\n      <th>state</th>\n      <th>driverNum</th>\n      <th>speeding</th>\n      <th>alcohol</th>\n      <th>notDistracted</th>\n      <th>noPrevious</th>\n      <th>insurance</th>\n      <th>losses</th>\n    </tr>\n  </thead>\n  <tbody>\n    <tr>\n      <th>0</th>\n      <td>Alabama</td>\n      <td>18.8</td>\n      <td>39</td>\n      <td>30</td>\n      <td>96</td>\n      <td>80</td>\n      <td>784.55</td>\n      <td>145.08</td>\n    </tr>\n    <tr>\n      <th>1</th>\n      <td>Alaska</td>\n      <td>18.1</td>\n      <td>41</td>\n      <td>25</td>\n      <td>90</td>\n      <td>94</td>\n      <td>1053.48</td>\n      <td>133.93</td>\n    </tr>\n    <tr>\n      <th>2</th>\n      <td>Arizona</td>\n      <td>18.6</td>\n      <td>35</td>\n      <td>28</td>\n      <td>84</td>\n      <td>96</td>\n      <td>899.47</td>\n      <td>110.35</td>\n    </tr>\n  </tbody>\n</table>\n</div>"
     },
     "metadata": {},
     "execution_count": 4
    }
   ],
   "source": [
    "# rename columns\n",
    "badDrivers = badDrivers.rename(columns={\n",
    "    \"State\":\"state\",\n",
    "    \"Number of drivers involved in fatal collisions per billion miles\":\"driverNum\",\n",
    "    \"Percentage Of Drivers Involved In Fatal Collisions Who Were Speeding\":\"speeding\",\n",
    "    \"Percentage Of Drivers Involved In Fatal Collisions Who Were Alcohol-Impaired\":\"alcohol\",\n",
    "    \"Percentage Of Drivers Involved In Fatal Collisions Who Were Not Distracted\":\"notDistracted\",\n",
    "    \"Percentage Of Drivers Involved In Fatal Collisions Who Had Not Been Involved In Any Previous Accidents\":\"noPrevious\",\n",
    "    \"Car Insurance Premiums ($)\":\"insurance\",\n",
    "    \"Losses incurred by insurance companies for collisions per insured driver ($)\":\"losses\",\n",
    "})\n",
    "badDrivers.head(3)"
   ]
  },
  {
   "cell_type": "code",
   "execution_count": 7,
   "metadata": {},
   "outputs": [
    {
     "output_type": "execute_result",
     "data": {
      "text/plain": [
       "count    51.000000\n",
       "mean     30.686275\n",
       "std       5.132213\n",
       "min      16.000000\n",
       "25%      28.000000\n",
       "50%      30.000000\n",
       "75%      33.000000\n",
       "max      44.000000\n",
       "Name: alcohol, dtype: float64"
      ]
     },
     "metadata": {},
     "execution_count": 7
    }
   ],
   "source": [
    "badDrivers.alcohol.describe()"
   ]
  },
  {
   "cell_type": "code",
   "execution_count": null,
   "metadata": {},
   "outputs": [],
   "source": []
  }
 ]
}