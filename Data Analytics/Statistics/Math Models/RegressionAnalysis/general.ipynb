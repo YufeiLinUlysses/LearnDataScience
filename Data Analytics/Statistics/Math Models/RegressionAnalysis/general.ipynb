{
 "metadata": {
  "language_info": {
   "codemirror_mode": {
    "name": "ipython",
    "version": 3
   },
   "file_extension": ".py",
   "mimetype": "text/x-python",
   "name": "python",
   "nbconvert_exporter": "python",
   "pygments_lexer": "ipython3",
   "version": "3.6.5-final"
  },
  "orig_nbformat": 2,
  "kernelspec": {
   "name": "python3",
   "display_name": "Python 3",
   "language": "python"
  }
 },
 "nbformat": 4,
 "nbformat_minor": 2,
 "cells": [
  {
   "cell_type": "code",
   "execution_count": 3,
   "metadata": {},
   "outputs": [
    {
     "output_type": "stream",
     "name": "stdout",
     "text": [
      "1.0\n14.2\n40.0\n10.0\n"
     ]
    },
    {
     "output_type": "execute_result",
     "data": {
      "text/plain": [
       "10.2"
      ]
     },
     "metadata": {},
     "execution_count": 3
    }
   ],
   "source": [
    "a = [1,0,2,0,3,1,0,1,2,0]\n",
    "b = [16,9,17,12,22,13,8,15,19,11]\n",
    "\n",
    "meanA = sum(a)/len(a)\n",
    "meanB = sum(b)/len(b)\n",
    "print(meanA)\n",
    "print(meanB)\n",
    "def estimated(a,b):\n",
    "    temp1 = 0\n",
    "    temp2 = 0\n",
    "    for i in range(len(a)):\n",
    "        temp1 += (a[i]-meanA)*(b[i]-meanB)\n",
    "        temp2 += (a[i]-meanA)*(a[i]-meanA)\n",
    "    print(temp1)\n",
    "    print(temp2)\n",
    "    return temp1/temp2\n",
    "cur = estimated(a,b)\n",
    "meanB-cur*meanA\n"
   ]
  },
  {
   "cell_type": "code",
   "execution_count": 5,
   "metadata": {},
   "outputs": [
    {
     "output_type": "stream",
     "name": "stdout",
     "text": [
      "201.14999999999998  &  199  &  -2.1499999999999773 \\\\\n201.14999999999998  &  205  &  3.8500000000000227 \\\\\n201.14999999999998  &  196  &  -5.149999999999977 \\\\\n201.14999999999998  &  200  &  -1.1499999999999773 \\\\\n217.42499999999998  &  218  &  0.575000000000017 \\\\\n217.42499999999998  &  220  &  2.575000000000017 \\\\\n217.42499999999998  &  215  &  -2.424999999999983 \\\\\n217.42499999999998  &  223  &  5.575000000000017 \\\\\n233.7  &  237  &  3.3000000000000114 \\\\\n233.7  &  234  &  0.30000000000001137 \\\\\n233.7  &  235  &  1.3000000000000114 \\\\\n233.7  &  230  &  -3.6999999999999886 \\\\\n249.975  &  250  &  0.025000000000005684 \\\\\n249.975  &  248  &  -1.9749999999999943 \\\\\n249.975  &  253  &  3.0250000000000057 \\\\\n249.975  &  246  &  -3.9749999999999943 \\\\\n"
     ]
    },
    {
     "output_type": "execute_result",
     "data": {
      "text/plain": [
       "2.2737367544323206e-13"
      ]
     },
     "metadata": {},
     "execution_count": 5
    }
   ],
   "source": [
    "total = 0\n",
    "for i in range(len(a)):\n",
    "    print(168.6+2.034375*a[i], \" & \", b[i], \" & \", b[i]-(168.6+2.034375*a[i]),\"\\\\\\\\\")\n",
    "    total += b[i]-(168.6+2.034375*a[i])\n",
    "total"
   ]
  }
 ]
}