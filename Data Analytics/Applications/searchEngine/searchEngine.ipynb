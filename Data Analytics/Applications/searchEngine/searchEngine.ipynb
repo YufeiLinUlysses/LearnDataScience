{
 "metadata": {
  "language_info": {
   "codemirror_mode": {
    "name": "ipython",
    "version": 3
   },
   "file_extension": ".py",
   "mimetype": "text/x-python",
   "name": "python",
   "nbconvert_exporter": "python",
   "pygments_lexer": "ipython3",
   "version": "3.6.5-final"
  },
  "orig_nbformat": 2,
  "kernelspec": {
   "name": "python3",
   "display_name": "Python 3",
   "language": "python"
  }
 },
 "nbformat": 4,
 "nbformat_minor": 2,
 "cells": [
  {
   "source": [
    "# Search Engine Based on Counting In-Links\n",
    "\n",
    "This search engine algorithm is based on counting in-links and recovering all sink node and sink region by adding a linkage towards other parts of the internet. Then, we define random walk to be the process where we randomly enter through a page on the internet and visit the next page that is connected to the entrance randomly."
   ],
   "cell_type": "markdown",
   "metadata": {}
  },
  {
   "cell_type": "code",
   "execution_count": 26,
   "metadata": {},
   "outputs": [],
   "source": [
    "import numpy as np"
   ]
  },
  {
   "cell_type": "code",
   "execution_count": 27,
   "metadata": {},
   "outputs": [
    {
     "output_type": "execute_result",
     "data": {
      "text/plain": [
       "array([[0, 1, 0, 0, 1, 0],\n",
       "       [1, 0, 1, 0, 1, 0],\n",
       "       [0, 0, 0, 0, 1, 0],\n",
       "       [0, 0, 1, 0, 0, 1],\n",
       "       [0, 1, 0, 1, 0, 0],\n",
       "       [0, 0, 0, 0, 0, 0]])"
      ]
     },
     "metadata": {},
     "execution_count": 27
    }
   ],
   "source": [
    "# Build an adjacency matrix based on whether the two points are connected\n",
    "\n",
    "A = np.array([[0,1,0,0,1,0],\n",
    "     [1,0,1,0,1,0],\n",
    "     [0,0,0,0,1,0],\n",
    "     [0,0,1,0,0,1],\n",
    "     [0,1,0,1,0,0],\n",
    "     [0,0,0,0,0,0]])\n",
    "A"
   ]
  },
  {
   "cell_type": "code",
   "execution_count": 28,
   "metadata": {},
   "outputs": [
    {
     "output_type": "execute_result",
     "data": {
      "text/plain": [
       "array([1, 2, 2, 1, 3, 1])"
      ]
     },
     "metadata": {},
     "execution_count": 28
    }
   ],
   "source": [
    "# count-in links\n",
    "def count_out_links(A):\n",
    "    c = A.sum(axis=0)\n",
    "    return c\n",
    "count_out_links(A)"
   ]
  },
  {
   "source": [
    "There are potentials that people would use the connections to create a sink node or sink region such that make our algorithm not working. Therefore, we need to use an algorithm to handle that situation."
   ],
   "cell_type": "markdown",
   "metadata": {}
  },
  {
   "cell_type": "code",
   "execution_count": 29,
   "metadata": {},
   "outputs": [],
   "source": [
    "# Find all sink nodes in the adjacency matrix\n",
    "def revise_sink_nodes(A):\n",
    "    temp = count_out_links(A)\n",
    "    A[:,np.where(temp==0)] += 1\n",
    "    return A"
   ]
  },
  {
   "cell_type": "code",
   "execution_count": 30,
   "metadata": {},
   "outputs": [],
   "source": [
    "# Compute probability matrix from adjacency matrix\n",
    "def compute_P(A):\n",
    "    temp = count_out_links(A)\n",
    "    P = (A@np.diag(1/temp))\n",
    "    return P\n"
   ]
  },
  {
   "cell_type": "code",
   "execution_count": 31,
   "metadata": {},
   "outputs": [],
   "source": [
    "# Compute the proper probability matrix after we make the sink node not sink anymore\n",
    "def compute_S(A):\n",
    "    A = revise_sink_nodes(A)\n",
    "    S = compute_P(A)\n",
    "    return S"
   ]
  },
  {
   "cell_type": "code",
   "execution_count": 32,
   "metadata": {},
   "outputs": [],
   "source": [
    "# Using the formula to generate the final probability matrix\n",
    "def compute_G(S, alpha=0.95):\n",
    "    G = alpha*S+((1-alpha)/S.shape[0])*np.ones_like(S)\n",
    "    return G"
   ]
  },
  {
   "cell_type": "code",
   "execution_count": 33,
   "metadata": {},
   "outputs": [],
   "source": [
    "# Taking random walk for one step\n",
    "def random_walk_one_step(P, x):\n",
    "    y = P@x\n",
    "    return y"
   ]
  },
  {
   "cell_type": "code",
   "execution_count": 34,
   "metadata": {},
   "outputs": [],
   "source": [
    "# Determine whether two np array equal to each other\n",
    "def all_close(x, y, tol=0.01):\n",
    "    c = np.allclose(x,y,atol=tol)\n",
    "    return c\n"
   ]
  },
  {
   "cell_type": "code",
   "execution_count": 35,
   "metadata": {},
   "outputs": [],
   "source": [
    "# Final random walk with default maximum as 100 steps\n",
    "def random_walk(P, x, tol=0.01, max_steps=100):\n",
    "    for i in range(max_steps):\n",
    "        if all_close(random_walk_one_step(P, x), x, tol):\n",
    "            break\n",
    "        x = random_walk_one_step(P, x)\n",
    "    return x"
   ]
  },
  {
   "cell_type": "code",
   "execution_count": 36,
   "metadata": {},
   "outputs": [
    {
     "output_type": "execute_result",
     "data": {
      "text/plain": [
       "array([1, 0, 4, 2, 3, 5], dtype=int64)"
      ]
     },
     "metadata": {},
     "execution_count": 36
    }
   ],
   "source": [
    "# Assemble the search engine\n",
    "def search_engine(A):\n",
    "    n = A.shape[0]  \n",
    "    x = np.ones(n)/n\n",
    "    G = compute_G(A)\n",
    "    s = random_walk(G,x)\n",
    "    s = np.argsort(s)[::-1]\n",
    "    return s\n",
    "search_engine_v1(A)"
   ]
  },
  {
   "cell_type": "code",
   "execution_count": null,
   "metadata": {},
   "outputs": [],
   "source": []
  }
 ]
}