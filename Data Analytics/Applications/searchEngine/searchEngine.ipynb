{
 "metadata": {
  "language_info": {
   "codemirror_mode": {
    "name": "ipython",
    "version": 3
   },
   "file_extension": ".py",
   "mimetype": "text/x-python",
   "name": "python",
   "nbconvert_exporter": "python",
   "pygments_lexer": "ipython3",
   "version": "3.6.5-final"
  },
  "orig_nbformat": 2,
  "kernelspec": {
   "name": "python3",
   "display_name": "Python 3",
   "language": "python"
  }
 },
 "nbformat": 4,
 "nbformat_minor": 2,
 "cells": [
  {
   "source": [
    "# Search Engine Based on Counting In-Links"
   ],
   "cell_type": "markdown",
   "metadata": {}
  },
  {
   "cell_type": "code",
   "execution_count": 2,
   "metadata": {},
   "outputs": [],
   "source": [
    "import numpy as np"
   ]
  },
  {
   "cell_type": "code",
   "execution_count": 3,
   "metadata": {},
   "outputs": [
    {
     "output_type": "execute_result",
     "data": {
      "text/plain": [
       "array([[0, 1, 0, 0, 1, 0],\n",
       "       [1, 0, 1, 0, 1, 0],\n",
       "       [0, 0, 0, 0, 1, 0],\n",
       "       [0, 0, 1, 0, 0, 1],\n",
       "       [0, 1, 0, 1, 0, 0],\n",
       "       [0, 0, 0, 0, 0, 0]])"
      ]
     },
     "metadata": {},
     "execution_count": 3
    }
   ],
   "source": [
    "# Build an adjacency matrix based on whether the two points are connected\n",
    "\n",
    "A = np.array([[0,1,0,0,1,0],\n",
    "     [1,0,1,0,1,0],\n",
    "     [0,0,0,0,1,0],\n",
    "     [0,0,1,0,0,1],\n",
    "     [0,1,0,1,0,0],\n",
    "     [0,0,0,0,0,0]])\n",
    "A"
   ]
  },
  {
   "cell_type": "code",
   "execution_count": 7,
   "metadata": {},
   "outputs": [
    {
     "output_type": "execute_result",
     "data": {
      "text/plain": [
       "array([1, 2, 2, 1, 3, 1])"
      ]
     },
     "metadata": {},
     "execution_count": 7
    }
   ],
   "source": [
    "# count-in links\n",
    "def count_out_links(A):\n",
    "    c = A.sum(axis=0)\n",
    "    return c\n",
    "count_out_links(A)"
   ]
  },
  {
   "cell_type": "code",
   "execution_count": 14,
   "metadata": {},
   "outputs": [],
   "source": [
    "# Calculate Probability Matrix\n",
    "def compute_P(A):\n",
    "    temp = count_out_links(A)\n",
    "    P = (A@np.diag(1/temp))\n",
    "    return P\n",
    "P = compute_P(A)"
   ]
  },
  {
   "cell_type": "code",
   "execution_count": 15,
   "metadata": {},
   "outputs": [
    {
     "output_type": "execute_result",
     "data": {
      "text/plain": [
       "array([0.13888889, 0.30555556, 0.05555556, 0.25      , 0.25      ,\n",
       "       0.        ])"
      ]
     },
     "metadata": {},
     "execution_count": 15
    }
   ],
   "source": [
    "def random_walk_one_step(P, x):\n",
    "    y = P@x\n",
    "    return y\n",
    "x =  np.ones(6)/6\n",
    "random_walk_one_step(P,x)"
   ]
  },
  {
   "cell_type": "code",
   "execution_count": 17,
   "metadata": {},
   "outputs": [
    {
     "output_type": "execute_result",
     "data": {
      "text/plain": [
       "True"
      ]
     },
     "metadata": {},
     "execution_count": 17
    }
   ],
   "source": [
    "def all_close(x, y, tol=0.01):\n",
    "    c = np.allclose(x,y,atol=tol)\n",
    "    return c\n"
   ]
  },
  {
   "cell_type": "code",
   "execution_count": 18,
   "metadata": {},
   "outputs": [],
   "source": [
    "def random_walk(P, x, tol=0.01, max_steps=100):\n",
    "    for i in range(max_steps):\n",
    "        if all_close(random_walk_one_step(P, x), x, tol):\n",
    "            break\n",
    "        x = random_walk_one_step(P, x)\n",
    "    return x"
   ]
  },
  {
   "cell_type": "code",
   "execution_count": 20,
   "metadata": {},
   "outputs": [
    {
     "output_type": "execute_result",
     "data": {
      "text/plain": [
       "array([1, 0, 4, 2, 3, 5], dtype=int64)"
      ]
     },
     "metadata": {},
     "execution_count": 20
    }
   ],
   "source": [
    "def search_engine_v1(A):\n",
    "    n = A.shape[0]  \n",
    "    x = np.ones(n)/n\n",
    "    P = compute_P(A)\n",
    "    s = random_walk(P,x)\n",
    "    s = np.argsort(s)[::-1]\n",
    "    return s\n",
    "search_engine_v1(A)"
   ]
  },
  {
   "cell_type": "code",
   "execution_count": null,
   "metadata": {},
   "outputs": [],
   "source": []
  }
 ]
}